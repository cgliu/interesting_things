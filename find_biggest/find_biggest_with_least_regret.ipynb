{
 "cells": [
  {
   "cell_type": "markdown",
   "metadata": {},
   "source": [
    "# Find the biggest possible watermelon of least regret problem"
   ]
  },
  {
   "cell_type": "markdown",
   "metadata": {},
   "source": [
    "Here is an interesting problem. \n",
    "\n",
    "Having N watermelons with random size, how can you pick the biggest possible one given:\n",
    "- You can only see one watermelon for each time and can only see it for once \n",
    "- Once you decice to pick one, you are done."
   ]
  },
  {
   "cell_type": "code",
   "execution_count": 1,
   "metadata": {},
   "outputs": [
    {
     "name": "stdout",
     "output_type": "stream",
     "text": [
      "N: 5 sample window: 20.0% decision window: 1.0% average regret: 1.0802\n",
      "N: 10 sample window: 40.0% decision window: 50.0% average regret: 1.9119\n",
      "N: 50 sample window: 38.0% decision window: 20.6% average regret: 4.0458\n",
      "N: 100 sample window: 34.0% decision window: 10.8% average regret: 4.9898\n",
      "N: 200 sample window: 38.0% decision window: 5.9% average regret: 5.8873\n",
      "N: 1000 sample window: 41.4% decision window: 1.0% average regret: 15.6848\n"
     ]
    }
   ],
   "source": [
    "import numpy as np\n",
    "import matplotlib.pyplot as plt\n",
    "from multiprocessing import Pool\n",
    "\n",
    "\"\"\"\n",
    "Given N watermelons with random size, if you can only see a  \n",
    "watermelon for once and decide whether to pick it, \n",
    "how to pick the biggest possible one if you can only pick for once?\n",
    "\"\"\"\n",
    "def find_biggest_least_regret(param):\n",
    "    \"\"\" Have N watermelons, find the best window size and the percetage \n",
    "        that has lest regret \"\"\"\n",
    "    W, P, N = param\n",
    "    num_trials=10000 \n",
    "    total_regret = 0\n",
    "    for i in range(num_trials):\n",
    "        watermelons = np.random.rand(N)\n",
    "        L = np.sort(watermelons[:W])[-int(W * P)]\n",
    "        find_bigger = watermelons[W:][watermelons[W:] >= L]\n",
    "        if find_bigger.shape[0] > 0:\n",
    "            result = find_bigger[0]\n",
    "        else:\n",
    "            result = watermelons[-1]\n",
    "\n",
    "        ## regret\n",
    "        watermelons_sorted = np.sort(watermelons)\n",
    "        rank = list(watermelons_sorted).index(result)\n",
    "        regret = N - 1 - rank\n",
    "        total_regret += regret\n",
    "    return total_regret/ num_trials\n",
    "\n",
    "\n",
    "def best_param_for_N(N):\n",
    "    params = [[W, P, N] for P in np.linspace(0.01, 0.5, 11) for W in range(1, N)]\n",
    "    num_cpus = 12\n",
    "    with Pool(num_cpus) as p:\n",
    "        average_regret = p.map(find_biggest_least_regret, params)\n",
    "\n",
    "    min_index = np.argmin(average_regret)\n",
    "    W, P, N = params[min_index]\n",
    "    print(f'N: {N} sample window: {W/N*100}% decision window: {P*100}% average regret: {average_regret[min_index]}')\n",
    "\n",
    "    \n",
    "if __name__=='__main__':\n",
    "    for N in [5, 10, 50, 100, 200, 1000]:\n",
    "        best_param_for_N(N)\n"
   ]
  },
  {
   "cell_type": "markdown",
   "metadata": {},
   "source": [
    "Conclusion\n",
    "Our strategy is\n",
    "- Check and remember the sizes of the first W samples\n",
    "- In the rest N-W samples, pick the first one that is no smaller than (1-P) percentage of the first W samples\n",
    "\n",
    "Based on out simulation results, except for N=5, we find the best sample window is nearly constant, which is about 40% of N. The decision making percentage P decreases with N, which makes sense because the larger the total number N is, the more close the size districbution in the first W is to that of the rest (N-W) samples.    \n",
    "\n"
   ]
  }
 ],
 "metadata": {
  "kernelspec": {
   "display_name": "work37-2",
   "language": "python",
   "name": "work37-2"
  },
  "language_info": {
   "codemirror_mode": {
    "name": "ipython",
    "version": 3
   },
   "file_extension": ".py",
   "mimetype": "text/x-python",
   "name": "python",
   "nbconvert_exporter": "python",
   "pygments_lexer": "ipython3",
   "version": "3.7.4"
  }
 },
 "nbformat": 4,
 "nbformat_minor": 4
}
